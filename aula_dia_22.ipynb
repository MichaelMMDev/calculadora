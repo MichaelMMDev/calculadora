{
  "nbformat": 4,
  "nbformat_minor": 0,
  "metadata": {
    "colab": {
      "provenance": [],
      "authorship_tag": "ABX9TyPWtkwZbptpH4UKDfHK3u8Y",
      "include_colab_link": true
    },
    "kernelspec": {
      "name": "python3",
      "display_name": "Python 3"
    },
    "language_info": {
      "name": "python"
    }
  },
  "cells": [
    {
      "cell_type": "markdown",
      "metadata": {
        "id": "view-in-github",
        "colab_type": "text"
      },
      "source": [
        "<a href=\"https://colab.research.google.com/github/MichaelMMDev/calculadora/blob/main/aula_dia_22.ipynb\" target=\"_parent\"><img src=\"https://colab.research.google.com/assets/colab-badge.svg\" alt=\"Open In Colab\"/></a>"
      ]
    },
    {
      "cell_type": "code",
      "execution_count": null,
      "metadata": {
        "colab": {
          "base_uri": "https://localhost:8080/"
        },
        "id": "K7x6QUPNvqSp",
        "outputId": "f967e320-cf67-488f-b259-fe35c511677c"
      },
      "outputs": [
        {
          "output_type": "stream",
          "name": "stdout",
          "text": [
            "digite um número, por gentileza. 3\n",
            "este valor está fora do intervalo.\n"
          ]
        }
      ],
      "source": [
        "num1=float(input(\"digite um número, por gentileza. \"))\n",
        "if num1 >10 and num1 <20 :\n",
        "  print(\"seu número está dentro do intervalo.\")\n",
        "\n",
        "else:\n",
        "  print(\"este valor está fora do intervalo.\")"
      ]
    },
    {
      "cell_type": "code",
      "source": [
        "idade= int(input(\"digite sua idade, caso tenha interesse em assistir o filme. \"))\n",
        "permissao= input(\"você tem a permissão dos seus responsaveis, sim ou não?\")\n",
        "\n",
        "if idade >= 18 and permissao == 'sim':\n",
        "  print(\"você pode assistir esse  filme, boa sessão. \")\n",
        "else:\n",
        "  print(\"Você ainda não pode assistir esse fileme. Tente outra vez!\")"
      ],
      "metadata": {
        "colab": {
          "base_uri": "https://localhost:8080/"
        },
        "id": "f7xbosoBy5DZ",
        "outputId": "52322feb-867b-40c2-e2b0-0f0ffef2d40d"
      },
      "execution_count": null,
      "outputs": [
        {
          "output_type": "stream",
          "name": "stdout",
          "text": [
            "digite sua idade, caso tenha interesse em assistir o filme. 77\n",
            " sim ou não?sim\n",
            "você pode assistir esse  filme, boa sessão. \n"
          ]
        }
      ]
    },
    {
      "cell_type": "code",
      "source": [
        "valor=float(input(\" digite um número por favor.\"))\n",
        "\n",
        "resto= valor%2\n",
        "\n",
        "\n",
        "if valor > 0 and resto == 0:\n",
        "  print(\"valor positivo e par.\")\n",
        "\n",
        "elif  valor > 0 and resto != 0:\n",
        "  print(\"valor positivo e ímpar.\")\n",
        "\n",
        "elif  valor < 0 and resto == 0:\n",
        "  print(\"valor negativo e par.\")\n",
        "\n",
        "elif  valor < 0 and resto != 0:\n",
        "  print(\"valor negativo e ímpar.\")\n",
        "\n",
        "\n",
        "\n",
        "\n",
        "\n"
      ],
      "metadata": {
        "colab": {
          "base_uri": "https://localhost:8080/"
        },
        "id": "3TqmLNWh2rwW",
        "outputId": "52b3838c-7da5-4ff6-c193-0d35224e64e7"
      },
      "execution_count": null,
      "outputs": [
        {
          "output_type": "stream",
          "name": "stdout",
          "text": [
            " digite um número por favor.-8\n",
            "valor negativo e par.\n"
          ]
        }
      ]
    },
    {
      "cell_type": "code",
      "source": [
        "l1=float(input(\"vamos descobrir  qual tipo de triângulo é o seu. Informe o tamanho do primeiro lado:\"))\n",
        "l2=float(input(\"Informe o tamanho do segundo lado:\"))\n",
        "l3=float(input(\"Informe o tamanho do terceiro  lado:\"))\n",
        "\n",
        "if l1 < l2 + l3 and  l2 <l1 + l3 and l3 <l1 + l2:\n",
        "\n",
        "  if l1 == l2 == l3:\n",
        "   print(\"Você tem um triângulo equilátero!\")\n",
        "\n",
        "  elif l1 > l2 == l3 or l1 < l2 == l3 or l1 == l2 > l3 or l1 == l2 < l3 or l1 > l3 ==l2 or l1 < l3 ==l2:\n",
        "   print(\"Você tem um triângulo isóceles!\")\n",
        "\n",
        "  elif  l1 > l2 > l3 or l1 < l2 < l3  or l1 < l2 > l3 or l1 > l2 < l3 or l1 > l3 >l2 or l1 < l3 <l2 or l1 < l3 >l2 :\n",
        "   print(\"Você tem um triângulo escaleno!\")\n",
        "\n",
        "else :\n",
        "  print(\"Esse triângulo não existe, pois não respeita as condições de existência de um triângulo qualquer.\")\n"
      ],
      "metadata": {
        "colab": {
          "base_uri": "https://localhost:8080/"
        },
        "id": "YuqEDBq_40hu",
        "outputId": "d998714b-5ed8-4083-f064-5bee6eda9208"
      },
      "execution_count": 5,
      "outputs": [
        {
          "output_type": "stream",
          "name": "stdout",
          "text": [
            "vamos descobrir  qual tipo de triângulo é o seu. Informe o tamanho do primeiro lado:6\n",
            "Informe o tamanho do segundo lado:0\n",
            "Informe o tamanho do terceiro  lado:3\n",
            "Esse triângulo não existe, pois não respeita as condições de existência de um triângulo qualquer.\n"
          ]
        }
      ]
    }
  ]
}