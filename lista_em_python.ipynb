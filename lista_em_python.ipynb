{
  "nbformat": 4,
  "nbformat_minor": 0,
  "metadata": {
    "colab": {
      "provenance": [],
      "authorship_tag": "ABX9TyO9zSLpmkwOQvUmggjh2zWA",
      "include_colab_link": true
    },
    "kernelspec": {
      "name": "python3",
      "display_name": "Python 3"
    },
    "language_info": {
      "name": "python"
    }
  },
  "cells": [
    {
      "cell_type": "markdown",
      "metadata": {
        "id": "view-in-github",
        "colab_type": "text"
      },
      "source": [
        "<a href=\"https://colab.research.google.com/github/MichaelMMDev/calculadora/blob/main/lista_em_python.ipynb\" target=\"_parent\"><img src=\"https://colab.research.google.com/assets/colab-badge.svg\" alt=\"Open In Colab\"/></a>"
      ]
    },
    {
      "cell_type": "code",
      "execution_count": 1,
      "metadata": {
        "colab": {
          "base_uri": "https://localhost:8080/"
        },
        "id": "YdPUeAASGDd2",
        "outputId": "fd44966f-fa5b-4085-98f8-beed0735e7e7"
      },
      "outputs": [
        {
          "output_type": "stream",
          "name": "stdout",
          "text": [
            "['python', 'academy']\n"
          ]
        }
      ],
      "source": [
        "lista=['python', 'academy']\n",
        "print(lista)"
      ]
    },
    {
      "cell_type": "code",
      "source": [
        "u=['mika', 'mikael', 'mica', 'krido', 'milka']\n",
        "s=['09', '80', '0o', '76', 'i9']\n",
        "\n",
        "print(u[2])\n",
        "print(s[2])"
      ],
      "metadata": {
        "colab": {
          "base_uri": "https://localhost:8080/"
        },
        "id": "qjcfTmL_JBzS",
        "outputId": "1253ddac-2ef6-4bd5-9d5c-c10276a6ca36"
      },
      "execution_count": null,
      "outputs": [
        {
          "output_type": "stream",
          "name": "stdout",
          "text": [
            "mica\n",
            "0o\n"
          ]
        }
      ]
    },
    {
      "cell_type": "code",
      "source": [
        "u=['mika', 'mikael', 'mica', 'krido', 'milka']\n",
        "s=['09', '80', '0o', '76', 'i9']\n",
        "u.append('kleiton')\n",
        "s.append(35)\n",
        "\n",
        "print(u)\n",
        "print(s)"
      ],
      "metadata": {
        "colab": {
          "base_uri": "https://localhost:8080/"
        },
        "id": "QyIfbpxoHdSK",
        "outputId": "8f9a6079-f244-41c2-e37f-92b93becfd9f"
      },
      "execution_count": 2,
      "outputs": [
        {
          "output_type": "stream",
          "name": "stdout",
          "text": [
            "['mika', 'mikael', 'mica', 'krido', 'milka', 'kleiton']\n",
            "['09', '80', '0o', '76', 'i9', 35]\n"
          ]
        }
      ]
    },
    {
      "cell_type": "code",
      "source": [
        "nomes=['jose']\n",
        "n1= input('digite um nome: ')\n",
        "n2= input('digite outro outro nome: ')\n",
        "n3= input('digite outro outro nome: ')\n",
        "\n",
        "nomes.append(n1)\n",
        "nomes.append(n2)\n",
        "nomes.append(n3)\n",
        "\n",
        "print(nomes)\n",
        "print(nomes[2])"
      ],
      "metadata": {
        "colab": {
          "base_uri": "https://localhost:8080/"
        },
        "id": "brbBvpSjJuPw",
        "outputId": "430bba15-531b-4dd5-aca7-d7e96cad0738"
      },
      "execution_count": 3,
      "outputs": [
        {
          "output_type": "stream",
          "name": "stdout",
          "text": [
            "digite um nome: yuy\n",
            "digite outro outro nome: igkgi\n",
            "digite outro outro nome: jhvuyv\n",
            "['jose', 'yuy', 'igkgi', 'jhvuyv']\n",
            "igkgi\n"
          ]
        }
      ]
    },
    {
      "cell_type": "code",
      "source": [
        "lista1=[1,2,3]\n",
        "lista2=[4,5,6]\n",
        "lista1.extend([lista2])\n",
        "lista1.extend([8])\n",
        "lista1.append(9)\n",
        "\n",
        "print(lista1)\n",
        "\n",
        "\n"
      ],
      "metadata": {
        "colab": {
          "base_uri": "https://localhost:8080/"
        },
        "id": "KMFWWFvSLonL",
        "outputId": "86d23412-b35d-42df-c2eb-03c2fda67b3e"
      },
      "execution_count": 11,
      "outputs": [
        {
          "output_type": "stream",
          "name": "stdout",
          "text": [
            "[1, 2, 3, [4, 5, 6], 8, 9]\n"
          ]
        }
      ]
    },
    {
      "cell_type": "code",
      "source": [
        "lista1="
      ],
      "metadata": {
        "id": "cFmqCmgEOA0l"
      },
      "execution_count": null,
      "outputs": []
    }
  ]
}