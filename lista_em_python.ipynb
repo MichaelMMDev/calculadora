{
  "nbformat": 4,
  "nbformat_minor": 0,
  "metadata": {
    "colab": {
      "provenance": [],
      "authorship_tag": "ABX9TyPkRVppIg2/n6mnb0VuS2Fn",
      "include_colab_link": true
    },
    "kernelspec": {
      "name": "python3",
      "display_name": "Python 3"
    },
    "language_info": {
      "name": "python"
    }
  },
  "cells": [
    {
      "cell_type": "markdown",
      "metadata": {
        "id": "view-in-github",
        "colab_type": "text"
      },
      "source": [
        "<a href=\"https://colab.research.google.com/github/MichaelMMDev/calculadora/blob/main/lista_em_python.ipynb\" target=\"_parent\"><img src=\"https://colab.research.google.com/assets/colab-badge.svg\" alt=\"Open In Colab\"/></a>"
      ]
    },
    {
      "cell_type": "code",
      "execution_count": 2,
      "metadata": {
        "colab": {
          "base_uri": "https://localhost:8080/"
        },
        "id": "YdPUeAASGDd2",
        "outputId": "63c2def6-cbee-4579-818c-088451ee2d56"
      },
      "outputs": [
        {
          "output_type": "stream",
          "name": "stdout",
          "text": [
            "['python', 'academy']\n"
          ]
        }
      ],
      "source": [
        "lista=['python', 'academy']\n",
        "print(lista)"
      ]
    },
    {
      "cell_type": "code",
      "source": [
        "u=['mika', 'mikael', 'mica', 'krido', 'milka']\n",
        "s=['09', '80', '0o', '76', 'i9']\n",
        "\n",
        "print(u[2])\n",
        "print(s[2])"
      ],
      "metadata": {
        "colab": {
          "base_uri": "https://localhost:8080/"
        },
        "id": "qjcfTmL_JBzS",
        "outputId": "1253ddac-2ef6-4bd5-9d5c-c10276a6ca36"
      },
      "execution_count": 3,
      "outputs": [
        {
          "output_type": "stream",
          "name": "stdout",
          "text": [
            "mica\n",
            "0o\n"
          ]
        }
      ]
    }
  ]
}