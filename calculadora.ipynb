{
  "nbformat": 4,
  "nbformat_minor": 0,
  "metadata": {
    "colab": {
      "provenance": [],
      "authorship_tag": "ABX9TyOIaaQUZ1td1bBdRft6bNh5",
      "include_colab_link": true
    },
    "kernelspec": {
      "name": "python3",
      "display_name": "Python 3"
    },
    "language_info": {
      "name": "python"
    }
  },
  "cells": [
    {
      "cell_type": "markdown",
      "metadata": {
        "id": "view-in-github",
        "colab_type": "text"
      },
      "source": [
        "<a href=\"https://colab.research.google.com/github/MichaelMMDev/calculadora/blob/main/calculadora.ipynb\" target=\"_parent\"><img src=\"https://colab.research.google.com/assets/colab-badge.svg\" alt=\"Open In Colab\"/></a>"
      ]
    },
    {
      "cell_type": "code",
      "execution_count": null,
      "metadata": {
        "id": "dLJs0zu9xzhd"
      },
      "outputs": [],
      "source": [
        "num1=float(input(\"digite um número: \"))\n",
        "\n",
        "num2=float(input(\"digite outro número: \"))\n",
        "\n",
        "calculadora=float(input(\"qual operação deseja fazer? 1(soma), 2(subtração), 3(multiplicação), 4(divisão), escolha um numero dentre esses.\"))\n",
        "\n",
        "if calculadora ==1:\n",
        "  print(num1+num2)\n",
        "\n",
        "elif calculadora ==2:\n",
        "  print(num1-num2)\n",
        "\n",
        "elif calculadora ==3:\n",
        "  print(num1*num2)\n",
        "\n",
        "elif calculadora ==4:\n",
        "  if num2 !=0:\n",
        "   print(num1/num2)\n",
        "  else:\n",
        "    print(\"Erro: divisão por 0\")\n"
      ]
    }
  ]
}