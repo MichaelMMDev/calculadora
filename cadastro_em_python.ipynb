{
  "nbformat": 4,
  "nbformat_minor": 0,
  "metadata": {
    "colab": {
      "provenance": [],
      "authorship_tag": "ABX9TyMAIIodo92nwC98lh2kYibn",
      "include_colab_link": true
    },
    "kernelspec": {
      "name": "python3",
      "display_name": "Python 3"
    },
    "language_info": {
      "name": "python"
    }
  },
  "cells": [
    {
      "cell_type": "markdown",
      "metadata": {
        "id": "view-in-github",
        "colab_type": "text"
      },
      "source": [
        "<a href=\"https://colab.research.google.com/github/MichaelMMDev/calculadora/blob/main/cadastro_em_python.ipynb\" target=\"_parent\"><img src=\"https://colab.research.google.com/assets/colab-badge.svg\" alt=\"Open In Colab\"/></a>"
      ]
    },
    {
      "cell_type": "code",
      "execution_count": null,
      "metadata": {
        "colab": {
          "base_uri": "https://localhost:8080/"
        },
        "id": "jq2SVZFu1BM-",
        "outputId": "ea8b68bc-9224-41f9-b9d5-c79550f1ea58"
      },
      "outputs": [
        {
          "name": "stdout",
          "output_type": "stream",
          "text": [
            "digite seu nome de usuário: 2\n",
            "digite uma senha: 1\n",
            "Parabéns, você conseguiu concluir seu longuin. Agora escolha uma das opções para seguir com o seu cadatro. Cadastro direto(1): permite cadastrar um usuário com nome, senha etipo de ID. \n",
            " . Cadastro de professor(2): permite cadastrar um professor com nome, matéria lecionada, senha e ID. \n",
            " Cadastro de aluno(3): permite cadastrar um aluno com matéria, senha, nome de usuário e ano. \n",
            " Calculadora(4): permite acessar a funcionalidade de uma calculadora.2\n"
          ]
        }
      ],
      "source": [
        "usu= (\"2\")\n",
        "sen= (\"1\")\n",
        "\n",
        "\n",
        "\n",
        "p_usu= input(\"digite seu nome de usuário: \" )\n",
        "p_sen= input(\"digite uma senha: \")\n",
        "\n",
        "if usu == p_usu and sen == p_sen:\n",
        "  escolha= int(input((\"Parabéns, você conseguiu concluir seu longuin. Agora escolha uma das opções para seguir com o seu cadatro. Cadastro direto(1): permite cadastrar um usuário com nome, senha etipo de ID. \\n . Cadastro de professor(2): permite cadastrar um professor com nome, matéria lecionada, senha e ID. \\n Cadastro de aluno(3): permite cadastrar um aluno com matéria, senha, nome de usuário e ano. \\n Calculadora(4): permite acessar a funcionalidade de uma calculadora.\")))\n",
        "\n",
        "  if escolha == 1:\n",
        "    nome1= str(input(\"Crie  um nome de usuário:  \" ))\n",
        "    senha1= str(input(\"Digite uma senha: \"))\n",
        "    id1= int(input(\"Digite um ID\"))\n",
        "\n",
        "  elif escolha == 2:\n",
        "    nome2= str(input(\"Crie  um nome de usuário:  \" ))\n",
        "    matt_p= str(int(\"Digite a matéria que você leciona: \"))\n",
        "    senha2= str(input(\"Digite uma senha: \"))\n",
        "    id2= int(input(\"Digite um ID\"))\n",
        "\n",
        "  elif escolha == 3:\n",
        "    nome3= str(input(\"Crie  um nome de usuário:  \" ))\n",
        "    matt_a= str(int(\"Digite a matéria que você cursa: \"))\n",
        "    senha3= str(input(\"Digite uma senha: \"))\n",
        "    id3= int(input(\"Digite um ID\"))\n",
        "    ano= int(input(\"Digite em qual ano você se encontra, do curso.\"))\n",
        "\n",
        "  elif escolha == 4:\n",
        "\n",
        "    num1=float(input(\"digite um número: \"))\n",
        "\n",
        "    num2=float(input(\"digite outro número: \"))\n",
        "\n",
        "    calculadora=float(input(\"qual operação deseja fazer? 1(soma), 2(subtração), 3(multiplicação), 4(divisão), escolha um numero dentre esses.\"))\n",
        "\n",
        "    if calculadora ==1:\n",
        "      print(num1+num2)\n",
        "\n",
        "    elif calculadora ==2:\n",
        "      print(num1-num2)\n",
        "\n",
        "    elif calculadora ==3:\n",
        "      print(num1*num2)\n",
        "\n",
        "    elif calculadora ==4:\n",
        "      if num2 !=0:\n",
        "        print(num1/num2)\n",
        "    else:\n",
        "      print(\"Erro: divisão por 0\")\n",
        "\n",
        "\n",
        "  print(escolha)\n",
        "\n",
        "\n",
        "else:\n",
        "  print(\"Usuário ou senha incorretos, verifique e tente novamente.\")\n",
        "\n"
      ]
    }
  ]
}