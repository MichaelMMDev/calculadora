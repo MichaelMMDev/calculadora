{
  "nbformat": 4,
  "nbformat_minor": 0,
  "metadata": {
    "colab": {
      "provenance": [],
      "authorship_tag": "ABX9TyPOfPiDulq0yl0eSoSPEoNM",
      "include_colab_link": true
    },
    "kernelspec": {
      "name": "python3",
      "display_name": "Python 3"
    },
    "language_info": {
      "name": "python"
    }
  },
  "cells": [
    {
      "cell_type": "markdown",
      "metadata": {
        "id": "view-in-github",
        "colab_type": "text"
      },
      "source": [
        "<a href=\"https://colab.research.google.com/github/MichaelMMDev/calculadora/blob/main/cadastro_em_python.ipynb\" target=\"_parent\"><img src=\"https://colab.research.google.com/assets/colab-badge.svg\" alt=\"Open In Colab\"/></a>"
      ]
    },
    {
      "cell_type": "code",
      "execution_count": 1,
      "metadata": {
        "colab": {
          "base_uri": "https://localhost:8080/",
          "height": 106
        },
        "id": "jq2SVZFu1BM-",
        "outputId": "66bd0fdb-baf1-40b8-c9a8-fde2b72de9c4"
      },
      "outputs": [
        {
          "output_type": "error",
          "ename": "SyntaxError",
          "evalue": "incomplete input (<ipython-input-1-ab8e4982d4d5>, line 8)",
          "traceback": [
            "\u001b[0;36m  File \u001b[0;32m\"<ipython-input-1-ab8e4982d4d5>\"\u001b[0;36m, line \u001b[0;32m8\u001b[0m\n\u001b[0;31m    \u001b[0m\n\u001b[0m    ^\u001b[0m\n\u001b[0;31mSyntaxError\u001b[0m\u001b[0;31m:\u001b[0m incomplete input\n"
          ]
        }
      ],
      "source": [
        "usu= bool((\"Michael Macedo\"))\n",
        "sen= bool((\"lindo3697\"))\n",
        "\n",
        "op1=\n",
        "\n",
        "p_usu= input(\"digite seu nome de usuário: \" )\n",
        "p_sen= input(\"digite uma senha\")\n",
        "\n",
        "if usu == p_usu and sen== p_sen:\n",
        "  print(\"\")\n"
      ]
    }
  ]
}