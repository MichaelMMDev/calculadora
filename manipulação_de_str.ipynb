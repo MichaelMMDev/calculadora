{
  "nbformat": 4,
  "nbformat_minor": 0,
  "metadata": {
    "colab": {
      "provenance": [],
      "authorship_tag": "ABX9TyP3miYwuoZV1ltDGd38pPdx",
      "include_colab_link": true
    },
    "kernelspec": {
      "name": "python3",
      "display_name": "Python 3"
    },
    "language_info": {
      "name": "python"
    }
  },
  "cells": [
    {
      "cell_type": "markdown",
      "metadata": {
        "id": "view-in-github",
        "colab_type": "text"
      },
      "source": [
        "<a href=\"https://colab.research.google.com/github/MichaelMMDev/calculadora/blob/main/manipula%C3%A7%C3%A3o_de_str.ipynb\" target=\"_parent\"><img src=\"https://colab.research.google.com/assets/colab-badge.svg\" alt=\"Open In Colab\"/></a>"
      ]
    },
    {
      "cell_type": "code",
      "execution_count": null,
      "metadata": {
        "colab": {
          "base_uri": "https://localhost:8080/"
        },
        "id": "TgaqbFyjVnPh",
        "outputId": "93ef555e-0110-4914-96e4-2f5e9fa6f1cd"
      },
      "outputs": [
        {
          "output_type": "stream",
          "name": "stdout",
          "text": [
            "texto original:TEXTO com AIÚSCULAS E MINUSCULA\n",
            "texto minusculo:texto com aiúsculas e minuscula\n"
          ]
        }
      ],
      "source": [
        "texto='TEXTO com AIÚSCULAS E MINUSCULA'\n",
        "t_m= texto.lower()\n",
        "print(f'texto original:{texto}')\n",
        "print(f'texto minusculo:{t_m}')"
      ]
    },
    {
      "cell_type": "code",
      "source": [
        "c_de_barras = input(\"digite o codigo do produto\")\n",
        "c_de_barras = c_de_barras.upper()\n",
        "print(f'processando o codigo de barras: {c_de_barras}')"
      ],
      "metadata": {
        "colab": {
          "base_uri": "https://localhost:8080/"
        },
        "id": "QivUrT8lW5ug",
        "outputId": "10757177-fd16-400f-a09c-92f14d8322e4"
      },
      "execution_count": null,
      "outputs": [
        {
          "output_type": "stream",
          "name": "stdout",
          "text": [
            "digite o codigo do produtomihjk\n",
            "processando o codigo de barras: MIHJK\n"
          ]
        }
      ]
    },
    {
      "cell_type": "code",
      "source": [
        "titulo= 'python para ciencia de dados'\n",
        "t_form= titulo.capitalize()\n",
        "print(f'titulo formatado: {t_form}')\n"
      ],
      "metadata": {
        "colab": {
          "base_uri": "https://localhost:8080/"
        },
        "id": "Y1iq9PgFXjmu",
        "outputId": "8fe413a5-ee89-4181-86ef-5980818918bb"
      },
      "execution_count": null,
      "outputs": [
        {
          "output_type": "stream",
          "name": "stdout",
          "text": [
            "titulo formatado: Python para ciencia de dados\n"
          ]
        }
      ]
    },
    {
      "cell_type": "code",
      "source": [
        "texto='!!!python e uma linguagem de progamação!!!44'\n",
        "texto_stripped= texto.strip('!4')\n",
        "print(texto_stripped)"
      ],
      "metadata": {
        "colab": {
          "base_uri": "https://localhost:8080/"
        },
        "id": "2WaIkgDcYKSs",
        "outputId": "626c5ece-ea3a-4f61-aec2-0f4bfd6a4859"
      },
      "execution_count": null,
      "outputs": [
        {
          "output_type": "stream",
          "name": "stdout",
          "text": [
            "python e uma linguagem de progamação\n"
          ]
        }
      ]
    },
    {
      "cell_type": "code",
      "source": [
        "feedback='o produto e excelente. Recomendo!'\n",
        "palavra_chave='excelente'\n",
        "c_palavras_chave= feedback.count(palavra_chave)\n",
        "print(f\"'{palavra_chave}' aparece {c_palavras_chave} vezes no feedback\")"
      ],
      "metadata": {
        "colab": {
          "base_uri": "https://localhost:8080/"
        },
        "id": "KLqS91cVZWLR",
        "outputId": "965d564e-fc83-43c0-9511-66b45fa8e969"
      },
      "execution_count": null,
      "outputs": [
        {
          "output_type": "stream",
          "name": "stdout",
          "text": [
            "'excelente' aparece 1 vezes no feedback\n"
          ]
        }
      ]
    }
  ]
}