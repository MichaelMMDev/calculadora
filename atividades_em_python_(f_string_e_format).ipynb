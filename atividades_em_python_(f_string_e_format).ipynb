{
  "nbformat": 4,
  "nbformat_minor": 0,
  "metadata": {
    "colab": {
      "provenance": [],
      "authorship_tag": "ABX9TyMnNC/9XzaSodcvyGGzdDLr",
      "include_colab_link": true
    },
    "kernelspec": {
      "name": "python3",
      "display_name": "Python 3"
    },
    "language_info": {
      "name": "python"
    }
  },
  "cells": [
    {
      "cell_type": "markdown",
      "metadata": {
        "id": "view-in-github",
        "colab_type": "text"
      },
      "source": [
        "<a href=\"https://colab.research.google.com/github/MichaelMMDev/calculadora/blob/main/atividades_em_python_(f_string_e_format).ipynb\" target=\"_parent\"><img src=\"https://colab.research.google.com/assets/colab-badge.svg\" alt=\"Open In Colab\"/></a>"
      ]
    },
    {
      "cell_type": "code",
      "execution_count": 2,
      "metadata": {
        "colab": {
          "base_uri": "https://localhost:8080/"
        },
        "id": "6oGUXFSJTXa4",
        "outputId": "c703c035-fbba-48d3-e3f6-14aaaf572f82"
      },
      "outputs": [
        {
          "output_type": "stream",
          "name": "stdout",
          "text": [
            "Usuário, digite um número.2\n",
            "Usuário, digite outro número.3\n",
            "O resultado da soma de 2.0 e 3.0 é 5.0\n"
          ]
        }
      ],
      "source": [
        "valor1=float(input('Usuário, digite um número.'))\n",
        "valor2=float(input('Usuário, digite outro número.'))\n",
        "\n",
        "soma=f'O resultado da soma de {valor1} e {valor2} é {valor1 + valor2}'\n",
        "print(soma)"
      ]
    },
    {
      "cell_type": "code",
      "source": [
        "valor1=float(input('Usuário, digite um número.'))\n",
        "valor2=float(input('Usuário, digite outro número.'))\n",
        "\n",
        "soma=\"O resultado da soma de {} e {} é {}\".format(valor1, valor2, valor1 + valor2)\n",
        "print(soma)\n"
      ],
      "metadata": {
        "colab": {
          "base_uri": "https://localhost:8080/"
        },
        "id": "Ww1F5vUvVgi9",
        "outputId": "c794228c-3b7e-4ba5-bb22-eea759ff463f"
      },
      "execution_count": 4,
      "outputs": [
        {
          "output_type": "stream",
          "name": "stdout",
          "text": [
            "Usuário, digite um número.3\n",
            "Usuário, digite outro número.2\n",
            "O resultado da soma de 3.0 e 2.0 é 5.0\n"
          ]
        }
      ]
    },
    {
      "cell_type": "code",
      "source": [
        "n_produto=\"Alcalino\"\n",
        "p_produto=float(100)\n",
        "d_produto=int(0)\n",
        "\n",
        "if d_produto > 0 :\n",
        "  print(f'Olá cliente, o produto desejado se chama {n_produto}, o preço do mesmo é {p_produto} e sim, temos o produto disponível até {d_produto } unidades.')\n",
        "\n",
        "else :\n",
        "  print(f'Olá cliente, não temos o produto {n_produto} disponível no momento. Caso queira entrar em contato posteriormente, o valor do nosso produto será {p_produto} ')"
      ],
      "metadata": {
        "colab": {
          "base_uri": "https://localhost:8080/"
        },
        "id": "OJXUbuk6WKya",
        "outputId": "6349f914-8feb-42e6-e832-935d7ca3f308"
      },
      "execution_count": 6,
      "outputs": [
        {
          "output_type": "stream",
          "name": "stdout",
          "text": [
            "Olá cliente, não temos o produto Alcalino disponível no momento. Caso queira entrar em contato posteriormente, o valor do nosso produto é 100.0 \n"
          ]
        }
      ]
    },
    {
      "cell_type": "code",
      "source": [
        "n_produto=\"Alcalino\"\n",
        "p_produto=float(100)\n",
        "d_produto=int(45)\n",
        "\n",
        "if d_produto > 0 :\n",
        "  print('Olá cliente, o produto desejado se chama {n_produto}, o preço do mesmo é {p_produto} e sim, temos o produto disponível até {d_produto} unidades.'.format(n_produto,p_produto,d_produto))\n",
        "\n",
        "else :\n",
        "  print('Olá cliente, não temos o produto {n_produto} disponível no momento. Caso queira entrar em contato posteriormente, o valor do nosso produto será {p_produto} '.format(n_produto, p_produto))"
      ],
      "metadata": {
        "id": "iI73eKs1YB6o"
      },
      "execution_count": null,
      "outputs": []
    },
    {
      "cell_type": "code",
      "source": [
        "p=float(input('Olá cliente, essa livraria tem muito prazer em lhe atender. Informe o valor unitário  do produto.'))\n",
        "q=int(input('Agora informe a quantidade de livros que você deseja comprar.'))\n",
        "por=int(input('Informe quantos porcento de desconto você recebeu. '))\n",
        "\n",
        "print(f'O subtotal da sua compra é {p*q}')\n",
        "print(f'O seu desconto foi de {por/100 * p*q :.1f} R$')\n",
        "print(f'O total a pagar é de {(100-por)/100 * p*q }, obrigado pela preferência!')"
      ],
      "metadata": {
        "colab": {
          "base_uri": "https://localhost:8080/"
        },
        "id": "rLvrPRnZbkzc",
        "outputId": "140bf1f8-e968-4b25-f7bb-0486219e1dcb"
      },
      "execution_count": 12,
      "outputs": [
        {
          "output_type": "stream",
          "name": "stdout",
          "text": [
            "Olá cliente, essa livraria tem muito prazer em lhe atender. Informe o valor unitário  do produto.35.5\n",
            "Agora informe a quantidade de livros que você deseja comprar.2\n",
            "Informe quantos porcento de desconto você recebeu. 10\n",
            "O subtotal da sua compra é 71.0\n",
            "O seu desconto foi de 7.1 R$\n",
            "O total a pagar é de 63.9, obrigado pela preferência!\n"
          ]
        }
      ]
    }
  ]
}